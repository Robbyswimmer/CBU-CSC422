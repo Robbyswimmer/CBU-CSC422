{
 "cells": [
  {
   "cell_type": "markdown",
   "metadata": {},
   "source": [
    "# CA.00: Python Fundamentals & Mathematical Foundations\n",
    "\n",
    "**Course:** CSC 422 - Machine and Deep Learning  \n",
    "**Points:** 2  \n",
    "**Estimated Time:** 30 minutes\n",
    "\n",
    "---\n",
    "\n",
    "## Instructions\n",
    "\n",
    "This assignment validates your readiness for machine learning by testing essential Python and mathematical skills. Complete all functions and answer all questions. **Make sure to run all cells and show outputs.**\n",
    "\n",
    "**Name:** [Your Name Here]  \n",
    "**Student ID:** [Your Student ID]  \n",
    "**Date:** [Today's Date]  \n",
    "\n",
    "---"
   ]
  },
  {
   "cell_type": "code",
   "execution_count": null,
   "metadata": {},
   "outputs": [],
   "source": [
    "# Required imports - run this cell first\n",
    "import numpy as np\n",
    "import matplotlib.pyplot as plt\n",
    "print(\"Libraries imported successfully!\")"
   ]
  },
  {
   "cell_type": "markdown",
   "metadata": {},
   "source": [
    "---\n",
    "# Part 1: Python Essentials (15 minutes)\n",
    "\n",
    "## Problem 1.1: List Comprehensions (5 minutes)\n",
    "\n",
    "Use list comprehensions to solve the following data processing tasks. Each should be implemented as a **single line** using list comprehension syntax."
   ]
  },
  {
   "cell_type": "code",
   "execution_count": null,
   "metadata": {},
   "outputs": [],
   "source": [
    "# Sample student data for testing\n",
    "student_scores = [78, 85, 92, 67, 95, 83, 74, 88, 90, 76]\n",
    "student_names = [\"Alice\", \"Bob\", \"Carol\", \"David\", \"Eve\", \"Frank\", \"Grace\", \"Henry\", \"Iris\", \"Jack\"]\n",
    "\n",
    "print(f\"Student scores: {student_scores}\")\n",
    "print(f\"Student names: {student_names}\")"
   ]
  },
  {
   "cell_type": "code",
   "execution_count": null,
   "metadata": {},
   "outputs": [],
   "source": [
    "# TODO: Create a list of all scores above 85 using list comprehension\n",
    "high_scores = # YOUR CODE HERE\n",
    "\n",
    "print(f\"Scores above 85: {high_scores}\")\n",
    "# Expected output: [92, 95, 88, 90]"
   ]
  },
  {
   "cell_type": "code",
   "execution_count": null,
   "metadata": {},
   "outputs": [],
   "source": [
    "# TODO: Create a list of letter grades based on scores using list comprehension\n",
    "# Grading scale: A >= 90, B >= 80, C >= 70, F < 70\n",
    "letter_grades = # YOUR CODE HERE\n",
    "\n",
    "print(f\"Letter grades: {letter_grades}\")\n",
    "# Expected output: ['C', 'B', 'A', 'F', 'A', 'B', 'C', 'B', 'A', 'C']"
   ]
  },
  {
   "cell_type": "code",
   "execution_count": null,
   "metadata": {},
   "outputs": [],
   "source": [
    "# TODO: Create a list of tuples (name, curved_score) where curved_score = original_score + 5\n",
    "# Only include students whose curved score is >= 80\n",
    "curved_passing = # YOUR CODE HERE\n",
    "\n",
    "print(f\"Curved passing students: {curved_passing}\")\n",
    "# Expected: [('Alice', 83), ('Bob', 90), ('Carol', 97), ('Eve', 100), ('Frank', 88), ('Grace', 79), ('Henry', 93), ('Iris', 95), ('Jack', 81)]"
   ]
  },
  {
   "cell_type": "markdown",
   "metadata": {},
   "source": [
    "## Problem 1.2: NumPy Array Operations (5 minutes)\n",
    "\n",
    "Demonstrate proficiency with NumPy array creation, statistical functions, and boolean indexing."
   ]
  },
  {
   "cell_type": "code",
   "execution_count": null,
   "metadata": {},
   "outputs": [],
   "source": [
    "# TODO: Convert student_scores to a NumPy array\n",
    "scores_array = # YOUR CODE HERE\n",
    "\n",
    "# TODO: Calculate basic statistics\n",
    "mean_score = # YOUR CODE HERE\n",
    "std_score = # YOUR CODE HERE\n",
    "min_score = # YOUR CODE HERE\n",
    "max_score = # YOUR CODE HERE\n",
    "\n",
    "print(f\"Score Statistics:\")\n",
    "print(f\"  Mean: {mean_score:.2f}\")\n",
    "print(f\"  Standard Deviation: {std_score:.2f}\")\n",
    "print(f\"  Min: {min_score}\")\n",
    "print(f\"  Max: {max_score}\")"
   ]
  },
  {
   "cell_type": "code",
   "execution_count": null,
   "metadata": {},
   "outputs": [],
   "source": [
    "# TODO: Use boolean indexing to find all scores between 75 and 90 (inclusive)\n",
    "mid_range_scores = # YOUR CODE HERE\n",
    "\n",
    "# TODO: Count how many students scored above the class average\n",
    "above_average_count = # YOUR CODE HERE\n",
    "\n",
    "print(f\"Scores between 75-90: {mid_range_scores}\")\n",
    "print(f\"Students above average: {above_average_count}\")"
   ]
  },
  {
   "cell_type": "markdown",
   "metadata": {},
   "source": [
    "## Problem 1.3: Matrix Multiplication with @ Operator (5 minutes)\n",
    "\n",
    "Use the @ operator to perform matrix multiplication for grade calculations."
   ]
  },
  {
   "cell_type": "code",
   "execution_count": null,
   "metadata": {},
   "outputs": [],
   "source": [
    "# Student scores matrix: 5 students × 3 assignments\n",
    "assignment_scores = np.array([\n",
    "    [85, 90, 78],  # Student 1\n",
    "    [92, 85, 88],  # Student 2  \n",
    "    [78, 95, 82],  # Student 3\n",
    "    [90, 88, 94],  # Student 4\n",
    "    [87, 92, 85]   # Student 5\n",
    "])\n",
    "\n",
    "# Assignment weights: Homework 40%, Quiz 35%, Exam 25%\n",
    "weights = np.array([\n",
    "    [0.4],   # Homework weight\n",
    "    [0.35],  # Quiz weight  \n",
    "    [0.25]   # Exam weight\n",
    "])\n",
    "\n",
    "print(f\"Assignment scores shape: {assignment_scores.shape}\")\n",
    "print(f\"Weights shape: {weights.shape}\")\n",
    "print(f\"Assignment scores:\\n{assignment_scores}\")\n",
    "print(f\"Weights: {weights.flatten()}\")"
   ]
  },
  {
   "cell_type": "code",
   "execution_count": null,
   "metadata": {},
   "outputs": [],
   "source": [
    "# TODO: Use @ operator to calculate final grades for all students\n",
    "final_grades = # YOUR CODE HERE\n",
    "\n",
    "print(f\"Final grades: {final_grades.flatten()}\")\n",
    "\n",
    "# TODO: Find the student with the highest final grade\n",
    "top_student_index = # YOUR CODE HERE\n",
    "top_grade = # YOUR CODE HERE\n",
    "\n",
    "print(f\"Top student is student #{top_student_index + 1} with grade {top_grade:.2f}\")"
   ]
  },
  {
   "cell_type": "markdown",
   "metadata": {},
   "source": [
    "---\n",
    "# Part 2: Mathematical Foundations (15 minutes)\n",
    "\n",
    "## Problem 2.1: Linear Functions (7 minutes)\n",
    "\n",
    "Implement and test linear functions based on the mathematical foundations."
   ]
  },
  {
   "cell_type": "code",
   "execution_count": null,
   "metadata": {},
   "outputs": [],
   "source": [
    "# TODO: Implement a 1D linear function: y = beta + omega * x\n",
    "def linear_function_1D(x, beta, omega):\n",
    "    \"\"\"\n",
    "    Compute 1D linear function: y = beta + omega * x\n",
    "    \n",
    "    Args:\n",
    "        x: Input value(s)\n",
    "        beta: y-intercept\n",
    "        omega: slope\n",
    "    \n",
    "    Returns:\n",
    "        y: Output value(s)\n",
    "    \"\"\"\n",
    "    # YOUR CODE HERE\n",
    "    pass\n",
    "\n",
    "# Test the function\n",
    "x_test = np.array([1, 2, 3, 4, 5])\n",
    "beta = 2.0\n",
    "omega = 1.5\n",
    "\n",
    "y_result = linear_function_1D(x_test, beta, omega)\n",
    "print(f\"Input x: {x_test}\")\n",
    "print(f\"Parameters: beta={beta}, omega={omega}\")\n",
    "print(f\"Output y: {y_result}\")\n",
    "# Expected output: [3.5 5.0 6.5 8.0 9.5]"
   ]
  },
  {
   "cell_type": "code",
   "execution_count": null,
   "metadata": {},
   "outputs": [],
   "source": [
    "# TODO: Implement a 2D linear function: y = beta + omega1 * x1 + omega2 * x2\n",
    "def linear_function_2D(x1, x2, beta, omega1, omega2):\n",
    "    \"\"\"\n",
    "    Compute 2D linear function: y = beta + omega1 * x1 + omega2 * x2\n",
    "    \n",
    "    Args:\n",
    "        x1: First input array\n",
    "        x2: Second input array  \n",
    "        beta: y-intercept\n",
    "        omega1: coefficient for x1\n",
    "        omega2: coefficient for x2\n",
    "    \n",
    "    Returns:\n",
    "        y: Output array\n",
    "    \"\"\"\n",
    "    # YOUR CODE HERE\n",
    "    pass\n",
    "\n",
    "# Test the function\n",
    "x1_test = np.array([1, 2, 3])\n",
    "x2_test = np.array([4, 5, 6])\n",
    "beta = 1.0\n",
    "omega1 = 0.5\n",
    "omega2 = 2.0\n",
    "\n",
    "y_2d_result = linear_function_2D(x1_test, x2_test, beta, omega1, omega2)\n",
    "print(f\"Input x1: {x1_test}\")\n",
    "print(f\"Input x2: {x2_test}\")\n",
    "print(f\"Parameters: beta={beta}, omega1={omega1}, omega2={omega2}\")\n",
    "print(f\"Output y: {y_2d_result}\")\n",
    "# Expected output: [9.5 12.0 14.5]"
   ]
  },
  {
   "cell_type": "code",
   "execution_count": null,
   "metadata": {},
   "outputs": [],
   "source": [
    "# TODO: Verify matrix form computation\n",
    "# Use vector/matrix operations to compute the same 2D linear function\n",
    "\n",
    "# Set up the vectors and matrices\n",
    "beta_vec = # YOUR CODE HERE (create appropriate vector)\n",
    "omega_mat = # YOUR CODE HERE (create appropriate matrix)\n",
    "x_vec = # YOUR CODE HERE (create appropriate vector from x1_test and x2_test)\n",
    "\n",
    "# TODO: Compute y using matrix/vector form: y = beta + omega_mat @ x_vec\n",
    "y_matrix_result = # YOUR CODE HERE\n",
    "\n",
    "print(f\"Matrix form result: {y_matrix_result.flatten()}\")\n",
    "print(f\"Individual form result: {y_2d_result}\")\n",
    "print(f\"Results match: {np.allclose(y_matrix_result.flatten(), y_2d_result)}\")"
   ]
  },
  {
   "cell_type": "markdown",
   "metadata": {},
   "source": [
    "## Problem 2.2: Special Functions (8 minutes)\n",
    "\n",
    "Work with exponential and logarithm functions to understand their properties."
   ]
  },
  {
   "cell_type": "code",
   "execution_count": null,
   "metadata": {},
   "outputs": [],
   "source": [
    "# TODO: Create arrays and compute exponential and logarithm values\n",
    "x_values = np.array([-2, -1, 0, 1, 2, 3])\n",
    "\n",
    "# TODO: Compute exponential values\n",
    "exp_values = # YOUR CODE HERE\n",
    "\n",
    "# TODO: Compute logarithm values (only for positive exp_values)\n",
    "log_values = # YOUR CODE HERE\n",
    "\n",
    "print(f\"x values: {x_values}\")\n",
    "print(f\"exp(x): {exp_values}\")\n",
    "print(f\"log(exp(x)): {log_values}\")\n",
    "\n",
    "# TODO: Verify that log(exp(x)) = x\n",
    "verification = # YOUR CODE HERE (check if log_values approximately equals x_values)\n",
    "print(f\"log(exp(x)) = x? {verification}\")"
   ]
  },
  {
   "cell_type": "markdown",
   "metadata": {},
   "source": [
    "### Mathematical Questions\n",
    "\n",
    "Answer the following questions based on your understanding of special functions:"
   ]
  },
  {
   "cell_type": "markdown",
   "metadata": {},
   "source": [
    "**Question 2.1:** What is the value of exp(0)?\n",
    "\n",
    "**Your Answer:** _______________"
   ]
  },
  {
   "cell_type": "markdown",
   "metadata": {},
   "source": [
    "**Question 2.2:** What is the value of log(1)?\n",
    "\n",
    "**Your Answer:** _______________"
   ]
  },
  {
   "cell_type": "markdown",
   "metadata": {},
   "source": [
    "**Question 2.3:** Is the exponential function convex or concave? (A function is convex if a line between any two points lies above the function)\n",
    "\n",
    "**Your Answer:** _______________"
   ]
  },
  {
   "cell_type": "markdown",
   "metadata": {},
   "source": [
    "**Question 2.4:** What happens to exp(x) as x approaches negative infinity?\n",
    "\n",
    "**Your Answer:** _______________"
   ]
  },
  {
   "cell_type": "code",
   "execution_count": null,
   "metadata": {},
   "outputs": [],
   "source": [
    "# Optional: Plot exponential and logarithm functions to visualize\n",
    "x_plot = np.linspace(-3, 3, 100)\n",
    "x_pos = np.linspace(0.1, 3, 100)  # For log (positive values only)\n",
    "\n",
    "plt.figure(figsize=(12, 4))\n",
    "\n",
    "# Plot exponential\n",
    "plt.subplot(1, 2, 1)\n",
    "plt.plot(x_plot, np.exp(x_plot), 'b-', linewidth=2)\n",
    "plt.title('Exponential Function')\n",
    "plt.xlabel('x')\n",
    "plt.ylabel('exp(x)')\n",
    "plt.grid(True)\n",
    "\n",
    "# Plot logarithm\n",
    "plt.subplot(1, 2, 2)\n",
    "plt.plot(x_pos, np.log(x_pos), 'r-', linewidth=2)\n",
    "plt.title('Logarithm Function')\n",
    "plt.xlabel('x')\n",
    "plt.ylabel('log(x)')\n",
    "plt.grid(True)\n",
    "\n",
    "plt.tight_layout()\n",
    "plt.show()"
   ]
  },
  {
   "cell_type": "markdown",
   "metadata": {},
   "source": [
    "---\n",
    "# Assignment Complete!\n",
    "\n",
    "**Before submitting:**\n",
    "1. ✅ Run all cells and verify outputs are displayed\n",
    "2. ✅ Check that all functions work without errors\n",
    "3. ✅ Answer all mathematical questions\n",
    "4. ✅ Add your name and student ID at the top\n",
    "\n",
    "**Congratulations!** You've demonstrated the Python and mathematical foundations needed for machine learning. These skills will be essential for implementing algorithms from scratch in upcoming assignments.\n",
    "\n",
    "---\n",
    "**Total Points:** 3\n",
    "**Next:** CA.01 - Linear Regression Implementation"
   ]
  }
 ],
 "metadata": {
  "kernelspec": {
   "display_name": "Python 3",
   "language": "python",
   "name": "python3"
  },
  "language_info": {
   "codemirror_mode": {
    "name": "ipython",
    "version": 3
   },
   "file_extension": ".py",
   "mimetype": "text/x-python",
   "name": "python",
   "nbconvert_exporter": "python",
   "pygments_lexer": "ipython3",
   "version": "3.11.0"
  }
 },
 "nbformat": 4,
 "nbformat_minor": 4
}
